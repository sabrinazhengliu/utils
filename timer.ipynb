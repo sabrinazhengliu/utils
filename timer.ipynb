{
 "cells": [
  {
   "cell_type": "code",
   "execution_count": 1,
   "id": "sublime-australia",
   "metadata": {},
   "outputs": [],
   "source": [
    "import time, sys, os, re, traceback\n",
    "import logging\n",
    "import ipynbname\n",
    "\n",
    "# check if using jupyter notebook\n",
    "def is_notebook():\n",
    "    try:\n",
    "        shell = get_ipython().__class__.__name__\n",
    "    except:\n",
    "        return False\n",
    "    if shell == 'ZMQInteractiveShell':\n",
    "        return True\n",
    "    return False\n",
    "\n",
    "def log_to_file(log_file, line_msg):\n",
    "    logger = logging.getLogger(__name__)\n",
    "    logger.setLevel(logging.INFO)\n",
    "    \n",
    "    formatter = logging.Formatter('%(asctime)s:~:%(message)s')\n",
    "    file_handler = logging.FileHandler(log_file)\n",
    "    file_handler.setFormatter(formatter)\n",
    "    logger.addHandler(file_handler)\n",
    "    \n",
    "    logger.info(line_msg)\n",
    "    logger.removeHandler(file_handler)\n",
    "    \n",
    "    return 1\n",
    "\n",
    "def logtime(func, keep_log=True):\n",
    "    def wrapper(*args, **kwargs):\n",
    "        try:\n",
    "            # check which funciton is running\n",
    "            print(func.__name__)\n",
    "            start = time.perf_counter()\n",
    "            result = func(*args, **kwargs)\n",
    "            # place holder for error name and error message\n",
    "            errors = ('', '')\n",
    "        except Exception as e:\n",
    "            errrs = (type(e).__name__, str(e).splitlines()[0])\n",
    "            raise\n",
    "        finally:\n",
    "            end = time.perf_counter()\n",
    "            stack = traceback.extract_stack()\n",
    "            filename, lineno, function_name, code = stack[-2]\n",
    "            # look for arguments\n",
    "            argsname = re.compile(r'\\((.*?)\\).*$').search(code).groups()[0]\n",
    "            time_use = round(end-start, 2) # in seconds\n",
    "            print_msg = \"{} (Line {}, *args: {}, **kwargs: {}), {} seconds\".format(\n",
    "                func.__name__, lineno, argsname, kwargs, time_use\n",
    "            )\n",
    "            print(print_msg)\n",
    "            \n",
    "            if keep_log:\n",
    "                if is_notebook():\n",
    "                    filename = ipynbname.name()\n",
    "                msg = \"{}:~:{}:~:{}:~:{}:~:{}:~:{}:~:{}:~:{}\".format(\n",
    "                    filename, lineno, func.__name__, \n",
    "                    argsname, kwargs, time_use, errors[0], errors[1]\n",
    "                )\n",
    "                log_dir = \"runtime\"\n",
    "                log_file = \"{}.log\".format(func.__name__)\n",
    "                log_path = \"{}/{}\".format(log_dir, log_file)\n",
    "                if not os.path.exists(log_dir):            \n",
    "                    os.mkdir(log_dir)                  # create log dir\n",
    "                if not os.path.exists(log_path):\n",
    "                    with open(log_path, 'a+') as f:    # create log file\n",
    "                        print('New log file created!')\n",
    "                log_to_file(log_path, msg)\n",
    "                \n",
    "        return result\n",
    "    return wrapper"
   ]
  },
  {
   "cell_type": "code",
   "execution_count": 2,
   "id": "peripheral-stopping",
   "metadata": {},
   "outputs": [
    {
     "name": "stdout",
     "output_type": "stream",
     "text": [
      "multiply\n",
      "multiply (Line 7, *args: i,i+1, **kwargs: {}), 0.11 seconds\n",
      "multiply\n",
      "multiply (Line 7, *args: i,i+1, **kwargs: {}), 0.11 seconds\n",
      "multiply\n",
      "multiply (Line 7, *args: i,i+1, **kwargs: {}), 0.11 seconds\n",
      "multiply\n",
      "multiply (Line 7, *args: i,i+1, **kwargs: {}), 0.11 seconds\n",
      "multiply\n",
      "multiply (Line 7, *args: i,i+1, **kwargs: {}), 0.11 seconds\n",
      "multiply\n",
      "multiply (Line 7, *args: i,i+1, **kwargs: {}), 0.11 seconds\n",
      "multiply\n",
      "multiply (Line 7, *args: i,i+1, **kwargs: {}), 0.11 seconds\n",
      "multiply\n",
      "multiply (Line 7, *args: i,i+1, **kwargs: {}), 0.11 seconds\n",
      "multiply\n",
      "multiply (Line 7, *args: i,i+1, **kwargs: {}), 0.1 seconds\n",
      "multiply\n",
      "multiply (Line 7, *args: i,i+1, **kwargs: {}), 0.11 seconds\n"
     ]
    }
   ],
   "source": [
    "@logtime\n",
    "def multiply(x, y):\n",
    "    time.sleep(.1) # wait .1 seconds\n",
    "    return x * y\n",
    "\n",
    "for i in range(10): \n",
    "    multiply(i,i+1)"
   ]
  },
  {
   "cell_type": "markdown",
   "id": "sound-veteran",
   "metadata": {},
   "source": [
    "#### See runtime/multiply.log"
   ]
  }
 ],
 "metadata": {
  "kernelspec": {
   "display_name": "Python 3",
   "language": "python",
   "name": "python3"
  },
  "language_info": {
   "codemirror_mode": {
    "name": "ipython",
    "version": 3
   },
   "file_extension": ".py",
   "mimetype": "text/x-python",
   "name": "python",
   "nbconvert_exporter": "python",
   "pygments_lexer": "ipython3",
   "version": "3.8.5"
  }
 },
 "nbformat": 4,
 "nbformat_minor": 5
}
